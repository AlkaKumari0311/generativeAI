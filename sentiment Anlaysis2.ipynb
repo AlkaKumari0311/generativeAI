{
 "cells": [
  {
   "cell_type": "code",
   "execution_count": null,
   "id": "bb30c645-17db-4f31-957a-04d8eca269c4",
   "metadata": {},
   "outputs": [
    {
     "name": "stdout",
     "output_type": "stream",
     "text": [
      "Enter a sentence to analyze the sentiment and receive suggestions (type 'exit' to quit):\n"
     ]
    },
    {
     "name": "stdin",
     "output_type": "stream",
     "text": [
      "Your input:  Tv is my product sound quality is good but picture is not for more good \n"
     ]
    },
    {
     "name": "stdout",
     "output_type": "stream",
     "text": [
      "Result:\n",
      "1. The sentiment of the text: 'Mixed'\n",
      "2. A helpful suggestion based on the sentiment:\n",
      "Since the sound quality of the TV is good, consider maintaining it by regularly cleaning the speakers and avoiding loud volumes for extended periods. For the picture quality, consider adjusting the settings or consulting the manufacturer's manual for troubleshooting steps. If the issue persists, you may want to explore professional repair options or consider upgrading to a TV with better picture quality.\n",
      "\n"
     ]
    }
   ],
   "source": [
    "from langchain_groq import ChatGroq\n",
    "import json\n",
    "\n",
    "\n",
    "llm = ChatGroq(\n",
    "    model=\"mixtral-8x7b-32768\",\n",
    "    temperature=0.2,\n",
    "    groq_api_key=\"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\" \n",
    ")\n",
    "\n",
    "\n",
    "def analyze_sentiment_and_suggest(text):\n",
    "    prompt = f\"\"\"\n",
    "    You are an assistant that \n",
    "    analyzes the sentiment of a \n",
    "    given text and provides useful suggestions\n",
    "    based on the tone of the text:\n",
    "    ---\n",
    "    {text}\n",
    "    ---\n",
    "    Based on the sentiment of the text,\n",
    "    please provide one of the following:\n",
    "    1. The sentiment of the text: 'Positive', 'Negative', or 'Neutral'.\n",
    "    2. A helpful suggestion or advice based on the sentiment:\n",
    "        - If the sentiment is positive, suggest ways to maintain or enhance it.\n",
    "        - If the sentiment is negative, suggest ways to improve or overcome the negativity.\n",
    "        - If the sentiment is neutral, suggest ways to add more emotion or perspective to the text.\n",
    "    \"\"\"\n",
    "    \n",
    "    \n",
    "    response = llm.invoke(prompt, max_tokens=150)\n",
    "    return response.content.strip()\n",
    "\n",
    "python_code = \"\"\"\n",
    "def add(a, b):\n",
    "return a + b\n",
    "\"\"\"\n",
    "\n",
    "# Structured prompt for JSON output\n",
    "prompt = f\"\"\"\n",
    "You are a professional Python code reviewer. \n",
    "Analyze the following function and provide a structured review.\n",
    "\n",
    "Return the response in strict JSON format with three keys:\n",
    "- \"errors\": A list of syntax or logical errors.\n",
    "- \"suggestions\": A list of improvements.\n",
    "- \"optimized_code\": The corrected and optimized version of the function.\n",
    "\n",
    "Ensure your response is **valid JSON only**.\n",
    "\n",
    "```python\n",
    "{python_code}\n",
    "\"\"\"\n",
    "\n",
    "\n",
    "def main():\n",
    "    print(\"Enter a sentence to analyze the sentiment and receive suggestions (type 'exit' to quit):\")\n",
    "    while True:\n",
    "        user_input = input(\"Your input: \")\n",
    "        \n",
    "        \n",
    "        if user_input.lower() == 'exit':\n",
    "            print(\"Exiting the sentiment analysis tool.\")\n",
    "            break\n",
    "        \n",
    "       \n",
    "        result = analyze_sentiment_and_suggest(user_input)\n",
    "        \n",
    "        \n",
    "        print(f\"Result:\\n{result}\\n\")\n",
    "\n",
    "\n",
    "\n",
    "main()"
   ]
  },
  {
   "cell_type": "code",
   "execution_count": null,
   "id": "e057c8b8-9b53-4f4c-8509-7baa8c896df2",
   "metadata": {},
   "outputs": [],
   "source": []
  }
 ],
 "metadata": {
  "kernelspec": {
   "display_name": "Python 3 (ipykernel)",
   "language": "python",
   "name": "python3"
  },
  "language_info": {
   "codemirror_mode": {
    "name": "ipython",
    "version": 3
   },
   "file_extension": ".py",
   "mimetype": "text/x-python",
   "name": "python",
   "nbconvert_exporter": "python",
   "pygments_lexer": "ipython3",
   "version": "3.9.13"
  }
 },
 "nbformat": 4,
 "nbformat_minor": 5
}
