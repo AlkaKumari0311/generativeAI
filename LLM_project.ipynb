{
 "cells": [
  {
   "cell_type": "code",
   "execution_count": 10,
   "id": "390fa3df-16a2-48bf-823a-c01fba3a2948",
   "metadata": {},
   "outputs": [],
   "source": [
    "from langchain_groq import ChatGroq\n"
   ]
  },
  {
   "cell_type": "code",
   "execution_count": 11,
   "id": "e83b829c-540f-453e-a7c2-ac5a002385ea",
   "metadata": {},
   "outputs": [],
   "source": [
    "#Initializing the function\n",
    "llm = ChatGroq(\n",
    "    model=\"mixtral-8x7b-32768\",\n",
    "    temperature=0,\n",
    "    groq_api_key = \"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\")"
   ]
  },
  {
   "cell_type": "code",
   "execution_count": 12,
   "id": "74a0c0d8-1e6b-4471-8a97-d166df4763c1",
   "metadata": {},
   "outputs": [
    {
     "data": {
      "text/plain": [
       "AIMessage(content='As of\\nJanuary 2022, the Prime Minister of India is Narendra Modi. He has been in office since May 2014, leading the Bharatiya Janata Party (BJP) and the National Democratic Alliance (NDA) coalition. Modi was re-elected for a second term in May 2019.', additional_kwargs={}, response_metadata={'token_usage': {'completion_tokens': 82, 'prompt_tokens': 16, 'total_tokens': 98, 'completion_time': 0.124912681, 'prompt_time': 0.002126919, 'queue_time': 0.018222595999999997, 'total_time': 0.1270396}, 'model_name': 'mixtral-8x7b-32768', 'system_fingerprint': 'fp_c5f20b5bb1', 'finish_reason': 'stop', 'logprobs': None}, id='run-7b04fe76-97eb-4914-827b-8e80b9638179-0', usage_metadata={'input_tokens': 16, 'output_tokens': 82, 'total_tokens': 98})"
      ]
     },
     "execution_count": 12,
     "metadata": {},
     "output_type": "execute_result"
    }
   ],
   "source": [
    "response = llm.invoke(\"who is the prime minister odf india\")\n",
    "response\n",
    "\n"
   ]
  },
  {
   "cell_type": "code",
   "execution_count": 13,
   "id": "0f6f3712-5c37-48f4-aa26-7a1ebc63ffcb",
   "metadata": {},
   "outputs": [],
   "source": [
    "def search(s):\n",
    "    response=llm.invoke(s)\n",
    "    print(response)"
   ]
  },
  {
   "cell_type": "code",
   "execution_count": 15,
   "id": "ddd98f6d-7d5a-4356-8ba9-743836910f81",
   "metadata": {},
   "outputs": [
    {
     "name": "stdout",
     "output_type": "stream",
     "text": [
      "content=\"The founder of Lakmé, India's leading cosmetics brand, is Jawed Habib. However, it is important to note that Jawed Habib is not the original founder of the brand. Lakmé was actually founded in 1952 by Tata Oil Mills Company (TOMCO), which is now known as Tata Global Beverages. TOMCO launched Lakmé as a premium makeup and skincare brand in India, and it quickly became popular among Indian women.\\n\\nIn 2001, Tata Chemicals acquired a 51% stake in Lakmé from Tata Global Beverages, and in 2005, Unilever acquired a 74% stake in Lakmé from Tata Chemicals. Jawed Habib joined Lakmé as a celebrity hairstylist and brand ambassador in 2008, and he later became the creative director of the brand. Habib has played a significant role in promoting Lakmé and expanding its reach in the Indian market.\" additional_kwargs={} response_metadata={'token_usage': {'completion_tokens': 227, 'prompt_tokens': 15, 'total_tokens': 242, 'completion_time': 0.350080164, 'prompt_time': 0.002001429, 'queue_time': 0.019700506, 'total_time': 0.352081593}, 'model_name': 'mixtral-8x7b-32768', 'system_fingerprint': 'fp_c5f20b5bb1', 'finish_reason': 'stop', 'logprobs': None} id='run-c83edfbe-91fb-47c5-a94f-c0fd458fb4bf-0' usage_metadata={'input_tokens': 15, 'output_tokens': 227, 'total_tokens': 242}\n"
     ]
    }
   ],
   "source": [
    "search (\"who is founder of Lakme product\")"
   ]
  },
  {
   "cell_type": "code",
   "execution_count": null,
   "id": "d3a4bc34-813b-4dde-aa35-05fddcd08649",
   "metadata": {},
   "outputs": [],
   "source": []
  }
 ],
 "metadata": {
  "kernelspec": {
   "display_name": "Python 3 (ipykernel)",
   "language": "python",
   "name": "python3"
  },
  "language_info": {
   "codemirror_mode": {
    "name": "ipython",
    "version": 3
   },
   "file_extension": ".py",
   "mimetype": "text/x-python",
   "name": "python",
   "nbconvert_exporter": "python",
   "pygments_lexer": "ipython3",
   "version": "3.9.13"
  }
 },
 "nbformat": 4,
 "nbformat_minor": 5
}
